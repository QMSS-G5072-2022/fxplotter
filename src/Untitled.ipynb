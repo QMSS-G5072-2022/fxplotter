{
 "cells": [
  {
   "cell_type": "code",
   "execution_count": 3,
   "id": "71dce139",
   "metadata": {},
   "outputs": [
    {
     "name": "stdout",
     "output_type": "stream",
     "text": [
      "Looking in indexes: https://test.pypi.org/simple/\n",
      "Collecting fxplotter\n",
      "  Downloading https://test-files.pythonhosted.org/packages/47/42/4f8bb8638192ffae3b40f3ebe406ab340d49d3d622f27e6e73472f80ac36/fxplotter-0.1.0-py3-none-any.whl (4.2 kB)\n",
      "Requirement already satisfied: requests<3.0.0,>=2.28.1 in /Users/ahmetybesiroglu/.pyenv/versions/3.9.1/lib/python3.9/site-packages (from fxplotter) (2.28.1)\n",
      "\u001b[31mERROR: Could not find a version that satisfies the requirement pandas<2.0.0,>=1.5.2 (from fxplotter) (from versions: none)\u001b[0m\u001b[31m\n",
      "\u001b[0m\u001b[31mERROR: No matching distribution found for pandas<2.0.0,>=1.5.2\u001b[0m\u001b[31m\n",
      "\u001b[0m\n",
      "\u001b[1m[\u001b[0m\u001b[34;49mnotice\u001b[0m\u001b[1;39;49m]\u001b[0m\u001b[39;49m A new release of pip available: \u001b[0m\u001b[31;49m22.2.2\u001b[0m\u001b[39;49m -> \u001b[0m\u001b[32;49m22.3.1\u001b[0m\n",
      "\u001b[1m[\u001b[0m\u001b[34;49mnotice\u001b[0m\u001b[1;39;49m]\u001b[0m\u001b[39;49m To update, run: \u001b[0m\u001b[32;49mpip install --upgrade pip\u001b[0m\n",
      "Note: you may need to restart the kernel to use updated packages.\n"
     ]
    }
   ],
   "source": [
    "pip install -i https://test.pypi.org/simple/ fxplotter"
   ]
  }
 ],
 "metadata": {
  "kernelspec": {
   "display_name": "Python 3 (ipykernel)",
   "language": "python",
   "name": "python3"
  },
  "language_info": {
   "codemirror_mode": {
    "name": "ipython",
    "version": 3
   },
   "file_extension": ".py",
   "mimetype": "text/x-python",
   "name": "python",
   "nbconvert_exporter": "python",
   "pygments_lexer": "ipython3",
   "version": "3.9.1"
  }
 },
 "nbformat": 4,
 "nbformat_minor": 5
}
